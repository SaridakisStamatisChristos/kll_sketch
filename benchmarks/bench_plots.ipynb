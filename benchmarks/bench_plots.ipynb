{
  "cells": [
    {
      "cell_type": "markdown",
      "metadata": {},
      "source": [
        "# KLL Sketch Benchmark Plots\n",
        "\n",
        "Load the CSV outputs from `benchmarks/bench_kll.py`, generate a few diagnostic plots, and summarise accuracy statistics.\n"
      ]
    },
    {
      "cell_type": "code",
      "execution_count": null,
      "metadata": {},
      "outputs": [],
      "source": [
        "from pathlib import Path\n",
        "import math\n",
        "import numpy as np\n",
        "import pandas as pd\n",
        "import matplotlib.pyplot as plt\n",
        "from IPython.display import display\n",
        "\n",
        "plt.style.use('seaborn-v0_8-darkgrid')\n",
        "outdir = Path('bench_out')\n",
        "accuracy = pd.read_csv(outdir / 'accuracy.csv')\n",
        "throughput = pd.read_csv(outdir / 'update_throughput.csv')\n",
        "latency = pd.read_csv(outdir / 'query_latency.csv')\n",
        "merge = pd.read_csv(outdir / 'merge.csv')\n",
        "accuracy.head()\n"
      ]
    },
    {
      "cell_type": "code",
      "execution_count": null,
      "metadata": {},
      "outputs": [],
      "source": [
        "single_accuracy = accuracy[accuracy['mode'] == 'single']\n",
        "dists = sorted(single_accuracy['distribution'].unique())\n",
        "cols = min(3, max(1, len(dists)))\n",
        "rows = math.ceil(len(dists) / cols)\n",
        "fig, axes = plt.subplots(rows, cols, figsize=(6 * cols, 4 * rows), sharex=True, sharey=True)\n",
        "axes = np.array(axes, dtype=object).reshape(rows, cols)\n",
        "for idx, dist in enumerate(dists):\n",
        "    ax = axes[idx // cols, idx % cols]\n",
        "    dist_data = single_accuracy[single_accuracy['distribution'] == dist]\n",
        "    for capacity, cap_df in dist_data.groupby('capacity'):\n",
        "        cap_df = cap_df.sort_values('q')\n",
        "        ax.plot(cap_df['q'], cap_df['abs_error'], marker='o', label=f'K={capacity}')\n",
        "    ax.set_title(dist)\n",
        "    ax.set_xlabel('q')\n",
        "    ax.set_ylabel('|error|')\n",
        "    ax.legend()\n",
        "for idx in range(len(dists), rows * cols):\n",
        "    axes[idx // cols, idx % cols].axis('off')\n",
        "plt.suptitle('Absolute value error by quantile (single pass)')\n",
        "plt.tight_layout()\n",
        "plt.show()\n"
      ]
    },
    {
      "cell_type": "code",
      "execution_count": null,
      "metadata": {},
      "outputs": [],
      "source": [
        "fig, ax = plt.subplots(figsize=(7, 4))\n",
        "for capacity, cap_df in throughput.groupby('capacity'):\n",
        "    cap_df = cap_df.sort_values('N')\n",
        "    ax.plot(cap_df['N'], cap_df['updates_per_sec'], marker='o', label=f'K={capacity}')\n",
        "ax.set_xscale('log')\n",
        "ax.set_xlabel('N')\n",
        "ax.set_ylabel('updates/sec')\n",
        "ax.set_title('Update throughput by problem size')\n",
        "ax.legend()\n",
        "plt.tight_layout()\n",
        "plt.show()\n"
      ]
    },
    {
      "cell_type": "code",
      "execution_count": null,
      "metadata": {},
      "outputs": [],
      "source": [
        "fig, ax = plt.subplots(figsize=(7, 4))\n",
        "for q, q_df in latency.groupby('q'):\n",
        "    q_df = q_df.sort_values('capacity')\n",
        "    ax.plot(q_df['capacity'], q_df['latency_us'], marker='o', label=f'q={q}')\n",
        "ax.set_xlabel('capacity')\n",
        "ax.set_ylabel('latency (\u00b5s)')\n",
        "ax.set_title('Query latency by quantile')\n",
        "ax.legend(bbox_to_anchor=(1.05, 1), loc='upper left')\n",
        "plt.tight_layout()\n",
        "plt.show()\n"
      ]
    },
    {
      "cell_type": "code",
      "execution_count": null,
      "metadata": {},
      "outputs": [],
      "source": [
        "fig, ax = plt.subplots(figsize=(7, 4))\n",
        "for (dist, N), grp in merge.groupby(['distribution', 'N']):\n",
        "    grp = grp.sort_values('shards')\n",
        "    label = f'{dist}, N={N}'\n",
        "    ax.plot(grp['shards'], grp['merge_time_s'], marker='o', label=label)\n",
        "ax.set_xlabel('shards')\n",
        "ax.set_ylabel('merge time (s)')\n",
        "ax.set_title('Merge time vs shards')\n",
        "ax.legend(bbox_to_anchor=(1.05, 1), loc='upper left')\n",
        "plt.tight_layout()\n",
        "plt.show()\n"
      ]
    },
    {
      "cell_type": "code",
      "execution_count": null,
      "metadata": {},
      "outputs": [],
      "source": [
        "summary = (\n",
        "    single_accuracy.groupby(['distribution', 'capacity'])\n",
        "    .agg(mean_abs_error=('abs_error', 'mean'), median_abs_error=('abs_error', 'median'))\n",
        "    .reset_index()\n",
        ")\n",
        "summary\n"
      ]
    },
    {
      "cell_type": "code",
      "execution_count": null,
      "metadata": {},
      "outputs": [],
      "source": [
        "best = (\n",
        "    accuracy.sort_values('abs_error')\n",
        "    .groupby(['distribution', 'capacity', 'mode'], as_index=False)\n",
        "    .first()\n",
        ")\n",
        "worst = (\n",
        "    accuracy.sort_values('abs_error', ascending=False)\n",
        "    .groupby(['distribution', 'capacity', 'mode'], as_index=False)\n",
        "    .first()\n",
        ")\n",
        "print('Best quantiles (lowest abs error):')\n",
        "display(best[['distribution', 'capacity', 'mode', 'q', 'abs_error']])\n",
        "print('\nWorst quantiles (highest abs error):')\n",
        "display(worst[['distribution', 'capacity', 'mode', 'q', 'abs_error']])\n"
      ]
    }
  ],
  "metadata": {
    "kernelspec": {
      "display_name": "Python 3",
      "language": "python",
      "name": "python3"
    },
    "language_info": {
      "name": "python",
      "version": "3.10"
    }
  },
  "nbformat": 4,
  "nbformat_minor": 5
}